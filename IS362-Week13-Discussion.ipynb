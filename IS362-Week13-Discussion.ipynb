{
 "cells": [
  {
   "cell_type": "markdown",
   "id": "d84b1c66",
   "metadata": {},
   "source": [
    "# YouTube's Recommender System Analysis"
   ]
  },
  {
   "cell_type": "markdown",
   "id": "90bbd514",
   "metadata": {},
   "source": [
    "I have performed a Scenario Design Analysis for the YouTube web site recommender system."
   ]
  },
  {
   "cell_type": "markdown",
   "id": "8ef903a7",
   "metadata": {},
   "source": [
    "1. **Target Users:**\n",
    "   - YouTube caters to a wide range of users, which include but are not limited to the following categories:\n",
    "     - Viewers seeking entertainment, education, information, or tutorials across various interests.\n",
    "     - Content creators looking to share their videos and grow their audience.\n",
    "     - Advertisers aiming to reach specific demographics through targeted ads."
   ]
  },
  {
   "cell_type": "markdown",
   "id": "add934d2",
   "metadata": {},
   "source": [
    "2. **Key Goals:**\n",
    "   - Viewers: have the main goal of finding relevant and engaging content based on their interests and preferences.\n",
    "   - Content creators: have the main goal to reach a wider audience and generate revenue through views and engagement.\n",
    "   - Advertisers: have the main goal to target specific audiences for their ads to maximize conversion and reach."
   ]
  },
  {
   "cell_type": "markdown",
   "id": "c65fd5e0",
   "metadata": {},
   "source": [
    "3. **How to Help Accomplish Goals:**\n",
    "   - For Viewers: YouTube's recommendation system suggests videos based on watch history, likes, subscriptions, and searches. It can offer personalized playlists, trending videos, and recommended channels.\n",
    "   - For Content Creators: YouTube provides analytics tools, SEO optimization, and monetization options like ads and memberships, helping creators understand their audience and grow their channel.\n",
    "   - For Advertisers: YouTube offers targeted advertising options, allowing advertisers to reach specific demographics based on user behavior and preferences."
   ]
  },
  {
   "cell_type": "markdown",
   "id": "e9a64ca4",
   "metadata": {},
   "source": [
    "My attempt to reverse Engineer YouTube's recommder system uncovered the following information:\n",
    "  - YouTube's interface showcases a personalized homepage with video recommendations based on the user's watch history, subscriptions, and liked videos. \n",
    "  - The platform encourages engagement through comments, likes, and shares. \n",
    "  - The site offers features like playlists, trending videos, and a sidebar displaying related content.\n",
    "  - The recommendation algorithms seem to pay close attention to how much time each viewer views a particular video, and how much engagement the user has with the video. For example, did they comment or copy the link to share it? The site will then suggest similar videos based on the observed interactions."
   ]
  },
  {
   "cell_type": "markdown",
   "id": "4534afef",
   "metadata": {},
   "source": [
    "To Enhance the Recommendation System, I would:\n",
    "1) Offer a variety of recommendations, in addition to those that seem most similar to the user's interest, to perhaps introduce other content the user may not know they could find interesting.\n",
    "2) I would offer user's greater control of the algorithms that recommend content, hopefully allowing them for a better experience after fine-tuning it with perhaps whitelist and blacklist capabilities.\n",
    "3) Use advanced ML or AI to better analyze content, thereby finetuning recommendations better as well as filter out unethical or bad content from reaching any viewer."
   ]
  },
  {
   "cell_type": "markdown",
   "id": "f0309ee3",
   "metadata": {},
   "source": [
    "                                                  Reference\n",
    "\n",
    "Ashbridge, Zoe. (2023, February 17). How the YouTube algorithm works: What marketers need to know. Retrieved from https://searchengineland.com/how-youtube-algorithm-works-393204#:~:text=%E2%80%9CYouTube's%20recommendation%20system%20actually%20finds,likely%20to%20watch%20and%20enjoy."
   ]
  }
 ],
 "metadata": {
  "kernelspec": {
   "display_name": "Python 3 (ipykernel)",
   "language": "python",
   "name": "python3"
  },
  "language_info": {
   "codemirror_mode": {
    "name": "ipython",
    "version": 3
   },
   "file_extension": ".py",
   "mimetype": "text/x-python",
   "name": "python",
   "nbconvert_exporter": "python",
   "pygments_lexer": "ipython3",
   "version": "3.9.13"
  }
 },
 "nbformat": 4,
 "nbformat_minor": 5
}
